{
  "cells": [
    {
      "cell_type": "code",
      "execution_count": 1,
      "id": "83ffaffa",
      "metadata": {
        "id": "83ffaffa"
      },
      "outputs": [],
      "source": [
        "import numpy as np\n",
        "import pandas as pd\n",
        "import time\n",
        "import matplotlib.pyplot as plt "
      ]
    },
    {
      "cell_type": "markdown",
      "id": "b698b642",
      "metadata": {
        "id": "b698b642"
      },
      "source": [
        "## Question 1\n",
        "- No of multiplication needed to multiply a matrix of dimensions (n,k) with a matrix of dimensions (k,m) will be $ {k} \\cdot {m} \\cdot {n} $\n",
        "- No of additions needed involved will be $ ({k-1}) \\cdot {m} \\cdot {n} $"
      ]
    },
    {
      "cell_type": "markdown",
      "id": "3a47376f",
      "metadata": {
        "id": "3a47376f"
      },
      "source": [
        "## Question 2\n",
        "Code for multiplying two matrix using list of list"
      ]
    },
    {
      "cell_type": "code",
      "execution_count": 2,
      "id": "6c43cb06",
      "metadata": {
        "id": "6c43cb06"
      },
      "outputs": [],
      "source": [
        "def matrixMul(A,B):\n",
        "    n1=len(A)\n",
        "    n2=len(B)\n",
        "    ans=[]\n",
        "    if(n1==0 and n2==0):\n",
        "        return ans\n",
        "    if(n1==0 or 2==0):\n",
        "        raise Exception(\"one of the given matrix is empty\")\n",
        "    m1=len(A[0])\n",
        "    m2=len(B[0])\n",
        "    if(m1!=n2):\n",
        "        raise Exception(\"Invalid dimensions\")\n",
        "    \n",
        "    for i in range(n1):\n",
        "        row=[]\n",
        "        for j in range(m2):\n",
        "            sum=0\n",
        "            for k in range(m1):\n",
        "                sum=sum+(A[i][k]*B[k][j])\n",
        "            row.append(sum)\n",
        "        ans.append(row)  \n",
        "    return ans"
      ]
    },
    {
      "cell_type": "code",
      "execution_count": 3,
      "id": "5132993f",
      "metadata": {
        "id": "5132993f"
      },
      "outputs": [],
      "source": [
        "A=np.random.randint(2,100,(200,200))\n",
        "B=np.random.randint(2,100,(200,200))\n",
        "A=A.tolist()\n",
        "B=B.tolist()"
      ]
    },
    {
      "cell_type": "markdown",
      "id": "dacb70a7",
      "metadata": {
        "id": "dacb70a7"
      },
      "source": [
        "Time comparasions between the both methods, clearly the numpy method will be faster. Numpy stores array in a contigous manner which lowers the access time for fetching the elements because of spatial locality used by cache. While on the other hand python list are not stored in contigous manner and hence increased access time. Also numpy utilizes CPU more efficently by fragmenting task and performing them parrallely. Many of the numpy functions are implemented using relatively fast langauges such as C,C++. Hence numpy matrix multiplication takes less time."
      ]
    },
    {
      "cell_type": "code",
      "execution_count": 4,
      "id": "92b023d0",
      "metadata": {
        "colab": {
          "base_uri": "https://localhost:8080/"
        },
        "id": "92b023d0",
        "outputId": "481f542f-b272-4c01-ae3c-25273f580798"
      },
      "outputs": [
        {
          "output_type": "stream",
          "name": "stdout",
          "text": [
            "1.5 s ± 67.6 ms per loop (mean ± std. dev. of 7 runs, 10 loops each)\n"
          ]
        }
      ],
      "source": [
        "%%timeit -n 10\n",
        "matrixMul(A,B)"
      ]
    },
    {
      "cell_type": "code",
      "execution_count": 5,
      "id": "4212351d",
      "metadata": {
        "id": "4212351d"
      },
      "outputs": [],
      "source": [
        "A=np.array(A)\n",
        "B=np.array(B)"
      ]
    },
    {
      "cell_type": "code",
      "execution_count": 6,
      "id": "4758ad0b",
      "metadata": {
        "colab": {
          "base_uri": "https://localhost:8080/"
        },
        "id": "4758ad0b",
        "outputId": "59622c95-f966-40cb-9a42-7300dc8c0545"
      },
      "outputs": [
        {
          "output_type": "stream",
          "name": "stdout",
          "text": [
            "10.1 ms ± 319 µs per loop (mean ± std. dev. of 7 runs, 10 loops each)\n"
          ]
        }
      ],
      "source": [
        "%%timeit -n 10\n",
        "np.matmul(A,B)"
      ]
    },
    {
      "cell_type": "markdown",
      "id": "53c158f8",
      "metadata": {
        "id": "53c158f8"
      },
      "source": [
        "## Question 3"
      ]
    },
    {
      "cell_type": "markdown",
      "id": "cf1383c6",
      "metadata": {
        "id": "cf1383c6"
      },
      "source": [
        "Using first method the time complexity that we will would get will be $ O(n^2) $.\n",
        "As we know that median is the $ (n/2)^{th} $ largest element of array(array size is odd). Thus we need to repeat the process of finding 1st largest, then 2nd largest element and so on for atleast n/2 time. Each iteration takes $O(n)$ time. Doing same for n/2 times would take $(n/2)\\cdot O(n)$ time which is equal to $O(n^2)$ time.   "
      ]
    },
    {
      "cell_type": "code",
      "execution_count": 7,
      "id": "d2dbcae0",
      "metadata": {
        "colab": {
          "base_uri": "https://localhost:8080/"
        },
        "id": "d2dbcae0",
        "outputId": "0a0a90c1-1ed1-450c-b357-516fc9274cb2"
      },
      "outputs": [
        {
          "output_type": "execute_result",
          "data": {
            "text/plain": [
              "4"
            ]
          },
          "metadata": {},
          "execution_count": 7
        }
      ],
      "source": [
        "def findMed(lst):\n",
        "    n=len(lst)\n",
        "    marked=[]\n",
        "    \n",
        "    for i in range(n):\n",
        "        marked.append(0)\n",
        "\n",
        "    med1=0\n",
        "    med2=0\n",
        "    \n",
        "    for i in range(int(n/2)):\n",
        "        ind=-1\n",
        "        mx=-10000000\n",
        "        for j in range(n):\n",
        "            if(marked[j]==0 and lst[j]>mx):\n",
        "                mx=lst[j]\n",
        "                \n",
        "                ind=j\n",
        "        if(i==int(n/2)-1):\n",
        "            med1=lst[ind]\n",
        "        \n",
        "        marked[ind]=1\n",
        "    \n",
        "    mx=-10000000\n",
        "    ind=-1\n",
        "    \n",
        "    for i in range(n):\n",
        "        if(marked[i]==0 and lst[i]>mx):\n",
        "                mx=lst[i]\n",
        "                ind=i\n",
        "    med2=lst[ind]\n",
        "    \n",
        "    if(n%2==1):\n",
        "        return med2\n",
        "    else:\n",
        "        return (med1+med2)/2\n",
        "\n",
        "lst=[1,2,3,4,5,6,7]\n",
        "findMed(lst)"
      ]
    },
    {
      "cell_type": "markdown",
      "id": "42dd34da",
      "metadata": {
        "id": "42dd34da"
      },
      "source": [
        "A better method would be to sort array and then find the median of sorted array. In case of a sorted array the median would be element at $n/2^{th}$ index for odd length arrays and average of element at $(n/2-1)^{th}$ and $(n/2)^{th}$ indices for array of even length. We know that we can sort a array in $O(nlog(n))$ time which is better than $O(n^2)$"
      ]
    },
    {
      "cell_type": "code",
      "execution_count": 8,
      "id": "d5f63b01",
      "metadata": {
        "colab": {
          "base_uri": "https://localhost:8080/"
        },
        "id": "d5f63b01",
        "outputId": "84d11a0c-961b-49a6-f1bc-ff71eb071c18"
      },
      "outputs": [
        {
          "output_type": "execute_result",
          "data": {
            "text/plain": [
              "5"
            ]
          },
          "metadata": {},
          "execution_count": 8
        }
      ],
      "source": [
        "def findMed2(lst):\n",
        "    lst.sort()\n",
        "    n=len(lst)\n",
        "    if(n%2==0):\n",
        "        return ((lst[int(n/2-1)]+lst[int(n/2)])/2)\n",
        "    else:\n",
        "        return lst[int(n/2)]\n",
        "lst=[1,2,3,4,5,6,7,8,9]\n",
        "findMed2(lst)\n"
      ]
    },
    {
      "cell_type": "markdown",
      "id": "e18adf78",
      "metadata": {
        "id": "e18adf78"
      },
      "source": [
        "Time Comparsions between two methods by taking a random array of length 1000 and running it for 70 times."
      ]
    },
    {
      "cell_type": "code",
      "execution_count": 9,
      "id": "e840077e",
      "metadata": {
        "id": "e840077e"
      },
      "outputs": [],
      "source": [
        "arr1=np.random.randint(1,1000,(1000,1))"
      ]
    },
    {
      "cell_type": "code",
      "execution_count": 11,
      "id": "08c1d616",
      "metadata": {
        "colab": {
          "base_uri": "https://localhost:8080/"
        },
        "id": "08c1d616",
        "outputId": "cc39c4d4-a9ea-4130-b659-9bc3bcb0c999"
      },
      "outputs": [
        {
          "output_type": "stream",
          "name": "stdout",
          "text": [
            "280 ms ± 3.08 ms per loop (mean ± std. dev. of 7 runs, 10 loops each)\n"
          ]
        }
      ],
      "source": [
        "%%timeit -n 10\n",
        "findMed(arr1)"
      ]
    },
    {
      "cell_type": "code",
      "execution_count": 12,
      "id": "7a71b064",
      "metadata": {
        "colab": {
          "base_uri": "https://localhost:8080/"
        },
        "id": "7a71b064",
        "outputId": "7366e1cb-dbba-46b6-f660-4181c06ebb14"
      },
      "outputs": [
        {
          "output_type": "stream",
          "name": "stdout",
          "text": [
            "6.89 µs ± 2.14 µs per loop (mean ± std. dev. of 7 runs, 10 loops each)\n"
          ]
        }
      ],
      "source": [
        "%%timeit -n 10\n",
        "findMed2(arr1)"
      ]
    },
    {
      "cell_type": "markdown",
      "id": "e831e8e2",
      "metadata": {
        "id": "e831e8e2"
      },
      "source": [
        "## Question 4"
      ]
    },
    {
      "cell_type": "markdown",
      "id": "bc767ecb",
      "metadata": {
        "id": "bc767ecb"
      },
      "source": [
        "- Gradient with respect to x will be $ \\frac{\\partial f}{\\partial x} = 2xy + y^3cos(x)$\n",
        "- Gradient with respect to y will be $ \\frac{\\partial f}{\\partial y} = x^2 + 3y^2sin(x)$"
      ]
    },
    {
      "cell_type": "markdown",
      "id": "bde74bf8",
      "metadata": {
        "id": "bde74bf8"
      },
      "source": [
        "## Question 5\n",
        "Calculating gradient using JAX library"
      ]
    },
    {
      "cell_type": "code",
      "execution_count": 13,
      "id": "3ae384f6",
      "metadata": {
        "colab": {
          "base_uri": "https://localhost:8080/"
        },
        "id": "3ae384f6",
        "outputId": "aeefc80c-ee1f-4406-9b4a-40cade34fc8e"
      },
      "outputs": [
        {
          "output_type": "stream",
          "name": "stderr",
          "text": [
            "WARNING:jax._src.lib.xla_bridge:No GPU/TPU found, falling back to CPU. (Set TF_CPP_MIN_LOG_LEVEL=0 and rerun for more info.)\n"
          ]
        },
        {
          "output_type": "stream",
          "name": "stdout",
          "text": [
            "With respect to x at x=1 and y=2 8.322418\n",
            "With respect to y at x=1 and y=2 11.0976515\n"
          ]
        }
      ],
      "source": [
        "import jax.numpy as jnp\n",
        "import numpy as np\n",
        "from jax import grad\n",
        "def f(x):\n",
        "  return (x[0]**2)*x[1]+(x[1]**3)*jnp.sin(x[0])\n",
        "\n",
        "xy=np.array([1.0,2.0])\n",
        "grd=grad(f)(xy)\n",
        "print(\"With respect to x at x=1 and y=2\", grd[0])\n",
        "print(\"With respect to y at x=1 and y=2\",grd[1])"
      ]
    },
    {
      "cell_type": "markdown",
      "id": "3b4aba3e",
      "metadata": {
        "id": "3b4aba3e"
      },
      "source": [
        "## Question 6\n",
        "Below code with computes gradients with respect to x and y. It gives same answer as calculated manually "
      ]
    },
    {
      "cell_type": "code",
      "execution_count": 14,
      "id": "6b7ec52a",
      "metadata": {
        "colab": {
          "base_uri": "https://localhost:8080/"
        },
        "id": "6b7ec52a",
        "outputId": "8cdbaf90-eab2-4988-e120-f87168a3f6a9"
      },
      "outputs": [
        {
          "output_type": "stream",
          "name": "stdout",
          "text": [
            "Gradient with respect to x:\n",
            "2*x*y + y**3*cos(x)\n",
            "Gradient with respect to y:\n",
            "x**2 + 3*y**2*sin(x)\n"
          ]
        }
      ],
      "source": [
        "import sympy\n",
        "from sympy import symbols, diff\n",
        "x=symbols(\"x\")\n",
        "y=symbols(\"y\")\n",
        "eqn=(x**2)*y+y**3*sympy.sin(x)\n",
        "print(\"Gradient with respect to x:\")\n",
        "print(diff(eqn,x))\n",
        "print(\"Gradient with respect to y:\")\n",
        "print(diff(eqn,y))"
      ]
    },
    {
      "cell_type": "markdown",
      "id": "d7ae5bf2",
      "metadata": {
        "id": "d7ae5bf2"
      },
      "source": [
        "To confirm that both methods i.e using jax and sympy gives same result that following is results calculated at 10 random points "
      ]
    },
    {
      "cell_type": "code",
      "execution_count": 17,
      "id": "865c046a",
      "metadata": {
        "id": "865c046a"
      },
      "outputs": [],
      "source": [
        "gradDF=pd.DataFrame(columns=[\"values\",\"Using Sympy\",\"Using JAX\"])\n",
        "values=np.random.uniform(1,10,(10,2))\n",
        "gradDF[\"values\"]=values.tolist()\n",
        "sympyVal=[]\n",
        "jaxVal=[]\n",
        "\n",
        "for i in range(len(values)):\n",
        "    var=values[i]\n",
        "    grd=grad(f)(var)\n",
        "    jaxVal.append([grd[0],grd[1]]);\n",
        "    sympyVal.append([diff(eqn,x).evalf(subs={x:values[i][0],y:values[i][1]}),diff(eqn,y).evalf(subs={x:values[i][0],y:values[i][1]})]);\n",
        "gradDF[\"Using Sympy\"]=sympyVal\n",
        "gradDF[\"Using JAX\"]=jaxVal\n"
      ]
    },
    {
      "cell_type": "code",
      "source": [
        "gradDF"
      ],
      "metadata": {
        "colab": {
          "base_uri": "https://localhost:8080/",
          "height": 363
        },
        "id": "HzU4wBNLtycC",
        "outputId": "e1eefd85-570a-49cf-9034-019ec6bda8ec"
      },
      "id": "HzU4wBNLtycC",
      "execution_count": 18,
      "outputs": [
        {
          "output_type": "execute_result",
          "data": {
            "text/plain": [
              "                                     values  \\\n",
              "0   [2.5206481461792163, 4.656297242988309]   \n",
              "1    [6.734622556053111, 9.255167373170721]   \n",
              "2   [2.9918320700140746, 8.196330389824432]   \n",
              "3   [4.517819637363552, 2.7036212783986144]   \n",
              "4  [2.4131994333213127, 3.1770025341847106]   \n",
              "5    [8.603804558913568, 7.623886637003111]   \n",
              "6   [1.3041616948195989, 9.215368819826747]   \n",
              "7    [8.432826726966747, 3.130132884907132]   \n",
              "8      [8.6103599366155, 3.270398434073467]   \n",
              "9   [3.0454682376229916, 8.591515960956938]   \n",
              "\n",
              "                             Using Sympy                Using JAX  \n",
              "0  [-58.6347997096383, 44.1961011880112]    [-58.6348, 44.196095]  \n",
              "1   [838.020464749731, 157.462586856210]    [838.0204, 157.46257]  \n",
              "2  [-495.420733961431, 39.0210340622670]   [-495.42062, 39.02104]  \n",
              "3  [20.6080233402828, -1.10423761733725]  [20.608017, -1.1042385]  \n",
              "4  [-8.59604425594218, 25.9800863183212]   [-8.596045, 25.980085]  \n",
              "5  [-170.807008687510, 201.631775254995]  [-170.80699, 201.63177]  \n",
              "6   [230.240390568496, 247.467152666516]   [230.24043, 247.46716]  \n",
              "7   [36.0144651058731, 95.7174639575422]     [36.01446, 95.71747]  \n",
              "8   [32.3131125594312, 97.4756670059402]     [32.31311, 97.47566]  \n",
              "9  [-578.917435409618, 30.5281369607719]  [-578.91736, 30.528114]  "
            ],
            "text/html": [
              "\n",
              "  <div id=\"df-064fbacc-ca43-4882-98a2-3db20f370443\">\n",
              "    <div class=\"colab-df-container\">\n",
              "      <div>\n",
              "<style scoped>\n",
              "    .dataframe tbody tr th:only-of-type {\n",
              "        vertical-align: middle;\n",
              "    }\n",
              "\n",
              "    .dataframe tbody tr th {\n",
              "        vertical-align: top;\n",
              "    }\n",
              "\n",
              "    .dataframe thead th {\n",
              "        text-align: right;\n",
              "    }\n",
              "</style>\n",
              "<table border=\"1\" class=\"dataframe\">\n",
              "  <thead>\n",
              "    <tr style=\"text-align: right;\">\n",
              "      <th></th>\n",
              "      <th>values</th>\n",
              "      <th>Using Sympy</th>\n",
              "      <th>Using JAX</th>\n",
              "    </tr>\n",
              "  </thead>\n",
              "  <tbody>\n",
              "    <tr>\n",
              "      <th>0</th>\n",
              "      <td>[2.5206481461792163, 4.656297242988309]</td>\n",
              "      <td>[-58.6347997096383, 44.1961011880112]</td>\n",
              "      <td>[-58.6348, 44.196095]</td>\n",
              "    </tr>\n",
              "    <tr>\n",
              "      <th>1</th>\n",
              "      <td>[6.734622556053111, 9.255167373170721]</td>\n",
              "      <td>[838.020464749731, 157.462586856210]</td>\n",
              "      <td>[838.0204, 157.46257]</td>\n",
              "    </tr>\n",
              "    <tr>\n",
              "      <th>2</th>\n",
              "      <td>[2.9918320700140746, 8.196330389824432]</td>\n",
              "      <td>[-495.420733961431, 39.0210340622670]</td>\n",
              "      <td>[-495.42062, 39.02104]</td>\n",
              "    </tr>\n",
              "    <tr>\n",
              "      <th>3</th>\n",
              "      <td>[4.517819637363552, 2.7036212783986144]</td>\n",
              "      <td>[20.6080233402828, -1.10423761733725]</td>\n",
              "      <td>[20.608017, -1.1042385]</td>\n",
              "    </tr>\n",
              "    <tr>\n",
              "      <th>4</th>\n",
              "      <td>[2.4131994333213127, 3.1770025341847106]</td>\n",
              "      <td>[-8.59604425594218, 25.9800863183212]</td>\n",
              "      <td>[-8.596045, 25.980085]</td>\n",
              "    </tr>\n",
              "    <tr>\n",
              "      <th>5</th>\n",
              "      <td>[8.603804558913568, 7.623886637003111]</td>\n",
              "      <td>[-170.807008687510, 201.631775254995]</td>\n",
              "      <td>[-170.80699, 201.63177]</td>\n",
              "    </tr>\n",
              "    <tr>\n",
              "      <th>6</th>\n",
              "      <td>[1.3041616948195989, 9.215368819826747]</td>\n",
              "      <td>[230.240390568496, 247.467152666516]</td>\n",
              "      <td>[230.24043, 247.46716]</td>\n",
              "    </tr>\n",
              "    <tr>\n",
              "      <th>7</th>\n",
              "      <td>[8.432826726966747, 3.130132884907132]</td>\n",
              "      <td>[36.0144651058731, 95.7174639575422]</td>\n",
              "      <td>[36.01446, 95.71747]</td>\n",
              "    </tr>\n",
              "    <tr>\n",
              "      <th>8</th>\n",
              "      <td>[8.6103599366155, 3.270398434073467]</td>\n",
              "      <td>[32.3131125594312, 97.4756670059402]</td>\n",
              "      <td>[32.31311, 97.47566]</td>\n",
              "    </tr>\n",
              "    <tr>\n",
              "      <th>9</th>\n",
              "      <td>[3.0454682376229916, 8.591515960956938]</td>\n",
              "      <td>[-578.917435409618, 30.5281369607719]</td>\n",
              "      <td>[-578.91736, 30.528114]</td>\n",
              "    </tr>\n",
              "  </tbody>\n",
              "</table>\n",
              "</div>\n",
              "      <button class=\"colab-df-convert\" onclick=\"convertToInteractive('df-064fbacc-ca43-4882-98a2-3db20f370443')\"\n",
              "              title=\"Convert this dataframe to an interactive table.\"\n",
              "              style=\"display:none;\">\n",
              "        \n",
              "  <svg xmlns=\"http://www.w3.org/2000/svg\" height=\"24px\"viewBox=\"0 0 24 24\"\n",
              "       width=\"24px\">\n",
              "    <path d=\"M0 0h24v24H0V0z\" fill=\"none\"/>\n",
              "    <path d=\"M18.56 5.44l.94 2.06.94-2.06 2.06-.94-2.06-.94-.94-2.06-.94 2.06-2.06.94zm-11 1L8.5 8.5l.94-2.06 2.06-.94-2.06-.94L8.5 2.5l-.94 2.06-2.06.94zm10 10l.94 2.06.94-2.06 2.06-.94-2.06-.94-.94-2.06-.94 2.06-2.06.94z\"/><path d=\"M17.41 7.96l-1.37-1.37c-.4-.4-.92-.59-1.43-.59-.52 0-1.04.2-1.43.59L10.3 9.45l-7.72 7.72c-.78.78-.78 2.05 0 2.83L4 21.41c.39.39.9.59 1.41.59.51 0 1.02-.2 1.41-.59l7.78-7.78 2.81-2.81c.8-.78.8-2.07 0-2.86zM5.41 20L4 18.59l7.72-7.72 1.47 1.35L5.41 20z\"/>\n",
              "  </svg>\n",
              "      </button>\n",
              "      \n",
              "  <style>\n",
              "    .colab-df-container {\n",
              "      display:flex;\n",
              "      flex-wrap:wrap;\n",
              "      gap: 12px;\n",
              "    }\n",
              "\n",
              "    .colab-df-convert {\n",
              "      background-color: #E8F0FE;\n",
              "      border: none;\n",
              "      border-radius: 50%;\n",
              "      cursor: pointer;\n",
              "      display: none;\n",
              "      fill: #1967D2;\n",
              "      height: 32px;\n",
              "      padding: 0 0 0 0;\n",
              "      width: 32px;\n",
              "    }\n",
              "\n",
              "    .colab-df-convert:hover {\n",
              "      background-color: #E2EBFA;\n",
              "      box-shadow: 0px 1px 2px rgba(60, 64, 67, 0.3), 0px 1px 3px 1px rgba(60, 64, 67, 0.15);\n",
              "      fill: #174EA6;\n",
              "    }\n",
              "\n",
              "    [theme=dark] .colab-df-convert {\n",
              "      background-color: #3B4455;\n",
              "      fill: #D2E3FC;\n",
              "    }\n",
              "\n",
              "    [theme=dark] .colab-df-convert:hover {\n",
              "      background-color: #434B5C;\n",
              "      box-shadow: 0px 1px 3px 1px rgba(0, 0, 0, 0.15);\n",
              "      filter: drop-shadow(0px 1px 2px rgba(0, 0, 0, 0.3));\n",
              "      fill: #FFFFFF;\n",
              "    }\n",
              "  </style>\n",
              "\n",
              "      <script>\n",
              "        const buttonEl =\n",
              "          document.querySelector('#df-064fbacc-ca43-4882-98a2-3db20f370443 button.colab-df-convert');\n",
              "        buttonEl.style.display =\n",
              "          google.colab.kernel.accessAllowed ? 'block' : 'none';\n",
              "\n",
              "        async function convertToInteractive(key) {\n",
              "          const element = document.querySelector('#df-064fbacc-ca43-4882-98a2-3db20f370443');\n",
              "          const dataTable =\n",
              "            await google.colab.kernel.invokeFunction('convertToInteractive',\n",
              "                                                     [key], {});\n",
              "          if (!dataTable) return;\n",
              "\n",
              "          const docLinkHtml = 'Like what you see? Visit the ' +\n",
              "            '<a target=\"_blank\" href=https://colab.research.google.com/notebooks/data_table.ipynb>data table notebook</a>'\n",
              "            + ' to learn more about interactive tables.';\n",
              "          element.innerHTML = '';\n",
              "          dataTable['output_type'] = 'display_data';\n",
              "          await google.colab.output.renderOutput(dataTable, element);\n",
              "          const docLink = document.createElement('div');\n",
              "          docLink.innerHTML = docLinkHtml;\n",
              "          element.appendChild(docLink);\n",
              "        }\n",
              "      </script>\n",
              "    </div>\n",
              "  </div>\n",
              "  "
            ]
          },
          "metadata": {},
          "execution_count": 18
        }
      ]
    },
    {
      "cell_type": "markdown",
      "id": "c7a11a33",
      "metadata": {
        "id": "c7a11a33"
      },
      "source": [
        "## Question 7"
      ]
    },
    {
      "cell_type": "code",
      "execution_count": 19,
      "id": "8266a4ac",
      "metadata": {
        "id": "8266a4ac"
      },
      "outputs": [],
      "source": [
        "dict1={\n",
        "    \"2022\":{\n",
        "        \"CSE\":{\n",
        "            \"1\":{\n",
        "                \"RollNo\":20110052,\n",
        "                \"Name\":\"Sandeep\",\n",
        "                \"Marks\":{\n",
        "                    \"ML\":\"A\",\n",
        "                    \"DBMS\":\"B\",\n",
        "                    \"DSA\":\"A-\"\n",
        "                }\n",
        "                \n",
        "            },\n",
        "        },\n",
        "        \"EE\":{\n",
        "            \"1\":{\n",
        "                \"RollNo\":20110143,\n",
        "                \"Name\":\"Rahul\",\n",
        "                \"Marks\":{\n",
        "                    \"Digital System\":\"A\",\n",
        "                \"Power Systems\":\"B\",\n",
        "                }\n",
        "                \n",
        "            }\n",
        "        }\n",
        "    }\n",
        "}"
      ]
    },
    {
      "cell_type": "markdown",
      "id": "2d6d7312",
      "metadata": {
        "id": "2d6d7312"
      },
      "source": [
        "## Question 8"
      ]
    },
    {
      "cell_type": "code",
      "execution_count": 20,
      "id": "3c99a18b",
      "metadata": {
        "id": "3c99a18b"
      },
      "outputs": [],
      "source": [
        "class Student:\n",
        "    def __init__(self,Name,RollNo,Marks):\n",
        "        self.Name=Name\n",
        "        self.RollNo=RollNo\n",
        "        self.Marks=Marks\n",
        "class Branch:\n",
        "    def __init__(self,Name,Students):\n",
        "        self.Students=Students\n",
        "class Mark:\n",
        "    def __init__(self,Name,Marks):\n",
        "        self.Name=Name\n",
        "        self.Marks=Marks\n",
        "class Year:\n",
        "    def __init__(self,YearNo,Branchs):\n",
        "        self.YearNo=YearNo\n",
        "        self.Branchs=Branchs"
      ]
    },
    {
      "cell_type": "code",
      "execution_count": 21,
      "id": "38304727",
      "metadata": {
        "id": "38304727"
      },
      "outputs": [],
      "source": [
        "m1=Mark(\"Maths\",90)\n",
        "m2=Mark(\"English\",82)\n",
        "m3=Mark(\"Science\",78)\n",
        "m4=Mark(\"Hindi\",88)\n",
        "m5=Mark(\"Maths\",80)\n",
        "m6=Mark(\"English\",79)\n",
        "m7=Mark(\"Science\",56)\n",
        "m8=Mark(\"Hindi\",67)\n",
        "\n",
        "s1=Student(\"Sandeep\",20110052,[m1,m2])\n",
        "s2=Student(\"Neel\",20110000,[m3,m4])\n",
        "s3=Student(\"Jay\",2011123,[m5,m6])\n",
        "s4=Student(\"Dev\",2011111,[m7,m8])"
      ]
    },
    {
      "cell_type": "code",
      "execution_count": 22,
      "id": "0b31e580",
      "metadata": {
        "id": "0b31e580"
      },
      "outputs": [],
      "source": [
        "b1=Branch(\"CSE\",[s1,s2])\n",
        "b2=Branch(\"EE\",[s3,s4])"
      ]
    },
    {
      "cell_type": "code",
      "execution_count": 23,
      "id": "660f0896",
      "metadata": {
        "id": "660f0896"
      },
      "outputs": [],
      "source": [
        "y1=Year(\"2022\",[b1,b2])"
      ]
    },
    {
      "cell_type": "markdown",
      "id": "0ec79647",
      "metadata": {
        "id": "0ec79647"
      },
      "source": [
        "## Question 9"
      ]
    },
    {
      "cell_type": "markdown",
      "id": "eefbbab3",
      "metadata": {
        "id": "eefbbab3"
      },
      "source": [
        "### $ y=x^2 $"
      ]
    },
    {
      "cell_type": "code",
      "execution_count": 24,
      "id": "3352e777",
      "metadata": {
        "colab": {
          "base_uri": "https://localhost:8080/",
          "height": 279
        },
        "id": "3352e777",
        "outputId": "3a6392b9-cfdb-4ed0-9122-67c78399f9f1"
      },
      "outputs": [
        {
          "output_type": "display_data",
          "data": {
            "text/plain": [
              "<Figure size 432x288 with 1 Axes>"
            ],
            "image/png": "[encoded data removed]"
          },
          "metadata": {
            "needs_background": "light"
          }
        }
      ],
      "source": [
        "x=np.arange(0.5,100,0.5)\n",
        "y=x*x\n",
        "plt.xlabel(\"x\")\n",
        "plt.ylabel(\"y\")\n",
        "plt.plot(x,y)\n",
        "plt.show()"
      ]
    },
    {
      "cell_type": "markdown",
      "id": "dfe6c219",
      "metadata": {
        "id": "dfe6c219"
      },
      "source": [
        "### $y=x$"
      ]
    },
    {
      "cell_type": "code",
      "execution_count": 25,
      "id": "d8960b94",
      "metadata": {
        "colab": {
          "base_uri": "https://localhost:8080/",
          "height": 279
        },
        "id": "d8960b94",
        "outputId": "42675a83-4c8f-4f74-ba0c-1dda9a126f61"
      },
      "outputs": [
        {
          "output_type": "display_data",
          "data": {
            "text/plain": [
              "<Figure size 432x288 with 1 Axes>"
            ],
            "image/png": "[encoded data removed]"
          },
          "metadata": {
            "needs_background": "light"
          }
        }
      ],
      "source": [
        "y=x\n",
        "plt.xlabel(\"x\")\n",
        "plt.ylabel(\"y\")\n",
        "plt.plot(x,y)\n",
        "plt.show()"
      ]
    },
    {
      "cell_type": "markdown",
      "id": "2c5aa3d5",
      "metadata": {
        "id": "2c5aa3d5"
      },
      "source": [
        "### $y=x^3/100$"
      ]
    },
    {
      "cell_type": "code",
      "execution_count": 26,
      "id": "72c15243",
      "metadata": {
        "colab": {
          "base_uri": "https://localhost:8080/",
          "height": 279
        },
        "id": "72c15243",
        "outputId": "1ca9ddca-c995-436d-a46a-6858a2fede4d"
      },
      "outputs": [
        {
          "output_type": "display_data",
          "data": {
            "text/plain": [
              "<Figure size 432x288 with 1 Axes>"
            ],
            "image/png": "[encoded data removed]"
          },
          "metadata": {
            "needs_background": "light"
          }
        }
      ],
      "source": [
        "y=np.power(x,3)/100\n",
        "plt.xlabel(\"x\")\n",
        "plt.ylabel(\"y\")\n",
        "plt.plot(x,y)\n",
        "plt.show()"
      ]
    },
    {
      "cell_type": "markdown",
      "id": "04ef0a4a",
      "metadata": {
        "id": "04ef0a4a"
      },
      "source": [
        "### $y=sin(x)$"
      ]
    },
    {
      "cell_type": "code",
      "execution_count": 27,
      "id": "bdec622b",
      "metadata": {
        "colab": {
          "base_uri": "https://localhost:8080/",
          "height": 279
        },
        "id": "bdec622b",
        "outputId": "3fde5fe0-d5d4-4921-9b9e-7ded0832d2cb"
      },
      "outputs": [
        {
          "output_type": "display_data",
          "data": {
            "text/plain": [
              "<Figure size 432x288 with 1 Axes>"
            ],
            "image/png": "[encoded data removed]"
          },
          "metadata": {
            "needs_background": "light"
          }
        }
      ],
      "source": [
        "y=np.sin(x)\n",
        "plt.xlabel(\"x\")\n",
        "plt.ylabel(\"y\")\n",
        "plt.plot(x,y)\n",
        "plt.show()"
      ]
    },
    {
      "cell_type": "markdown",
      "id": "8f61e863",
      "metadata": {
        "id": "8f61e863"
      },
      "source": [
        "### $y=sin(x)/x$"
      ]
    },
    {
      "cell_type": "code",
      "execution_count": 28,
      "id": "d53d88bc",
      "metadata": {
        "colab": {
          "base_uri": "https://localhost:8080/",
          "height": 280
        },
        "id": "d53d88bc",
        "outputId": "d8f7acf4-aec2-44a6-d688-cf13088ddf13"
      },
      "outputs": [
        {
          "output_type": "display_data",
          "data": {
            "text/plain": [
              "<Figure size 432x288 with 1 Axes>"
            ],
            "image/png": "[encoded data removed]"
          },
          "metadata": {
            "needs_background": "light"
          }
        }
      ],
      "source": [
        "y=np.sin(x)/x\n",
        "plt.xlabel(\"x\")\n",
        "plt.ylabel(\"y\")\n",
        "plt.plot(x,y)\n",
        "plt.show()"
      ]
    },
    {
      "cell_type": "markdown",
      "id": "9d6bbe8a",
      "metadata": {
        "id": "9d6bbe8a"
      },
      "source": [
        "### $y=log(x)$"
      ]
    },
    {
      "cell_type": "code",
      "execution_count": 29,
      "id": "6f88ea1d",
      "metadata": {
        "colab": {
          "base_uri": "https://localhost:8080/",
          "height": 279
        },
        "id": "6f88ea1d",
        "outputId": "205bfb8c-9942-47d8-f510-fc9a08ffb3cd"
      },
      "outputs": [
        {
          "output_type": "display_data",
          "data": {
            "text/plain": [
              "<Figure size 432x288 with 1 Axes>"
            ],
            "image/png": "[encoded data removed]"
          },
          "metadata": {
            "needs_background": "light"
          }
        }
      ],
      "source": [
        "y=np.log(x)\n",
        "plt.xlabel(\"x\")\n",
        "plt.ylabel(\"y\")\n",
        "plt.plot(x,y)\n",
        "plt.show()"
      ]
    },
    {
      "cell_type": "code",
      "execution_count": 30,
      "id": "011c6557",
      "metadata": {
        "colab": {
          "base_uri": "https://localhost:8080/",
          "height": 290
        },
        "id": "011c6557",
        "outputId": "e5df6fc4-aa86-437d-b8a7-eaf0d379907e"
      },
      "outputs": [
        {
          "output_type": "display_data",
          "data": {
            "text/plain": [
              "<Figure size 432x288 with 1 Axes>"
            ],
            "image/png": "[encoded data removed]"
          },
          "metadata": {
            "needs_background": "light"
          }
        }
      ],
      "source": [
        "y=np.exp(x)\n",
        "plt.xlabel(\"x\")\n",
        "plt.ylabel(\"y\")\n",
        "plt.plot(x,y)\n",
        "plt.show()"
      ]
    },
    {
      "cell_type": "markdown",
      "id": "7860586e",
      "metadata": {
        "id": "7860586e"
      },
      "source": [
        "## Question 10"
      ]
    },
    {
      "cell_type": "code",
      "execution_count": 31,
      "id": "a27853a0",
      "metadata": {
        "colab": {
          "base_uri": "https://localhost:8080/"
        },
        "id": "a27853a0",
        "outputId": "96e54d6f-eb37-44f4-a3dd-8462a049b067"
      },
      "outputs": [
        {
          "output_type": "stream",
          "name": "stdout",
          "text": [
            "           a         b         c         d         e\n",
            "0   1.967025  1.312769  1.189172  1.201706  1.480853\n",
            "1   1.354348  1.928288  1.140816  1.867321  1.039517\n",
            "2   1.556850  1.906681  1.310637  1.143286  1.105314\n",
            "3   1.551396  1.028131  1.061084  1.157336  1.258039\n",
            "4   1.770392  1.857242  1.363614  1.407561  1.825225\n",
            "5   1.351827  1.490565  1.809443  1.354329  1.830769\n",
            "6   1.517520  1.538430  1.134551  1.073467  1.942133\n",
            "7   1.374775  1.601236  1.721529  1.310318  1.362586\n",
            "8   1.151767  1.631563  1.187630  1.887164  1.958901\n",
            "9   1.853252  1.161084  1.959313  1.562866  1.477863\n",
            "10  1.199618  1.011089  1.897310  1.974625  1.594469\n",
            "11  1.339329  1.055056  1.193191  1.276127  1.704940\n",
            "12  1.091122  1.358685  1.629762  1.236827  1.787880\n",
            "13  1.433148  1.932312  1.164448  1.033995  1.800432\n",
            "14  1.809606  1.657827  1.997041  1.971370  1.688710\n",
            "15  1.483402  1.853283  1.006576  1.921009  1.511662\n",
            "16  1.726342  1.399384  1.475379  1.568480  1.110733\n",
            "17  1.268020  1.333639  1.417355  1.526362  1.415018\n",
            "18  1.130387  1.701740  1.549363  1.838118  1.694886\n",
            "19  1.314250  1.782041  1.968653  1.471389  1.496363\n",
            "Column with hightest standard deviation:  c\n",
            "Row with lowest mean: 3\n"
          ]
        }
      ],
      "source": [
        "randArr=np.random.uniform(1,2,(20,5))\n",
        "columns=[\"a\",\"b\",\"c\",\"d\",\"e\"]\n",
        "df=pd.DataFrame(randArr,columns=columns)\n",
        "print(df)\n",
        "stds=[]\n",
        "\n",
        "for e in columns:\n",
        "    stds.append(df[e].std())\n",
        "\n",
        "print(\"Column with hightest standard deviation: \",columns[np.argmax(stds)])\n",
        "print(\"Row with lowest mean:\",np.argmin(df.mean(axis=1)))"
      ]
    },
    {
      "cell_type": "markdown",
      "id": "e6b13d7b",
      "metadata": {
        "id": "e6b13d7b"
      },
      "source": [
        "## Question 11"
      ]
    },
    {
      "cell_type": "code",
      "execution_count": 32,
      "id": "df1e02e6",
      "metadata": {
        "colab": {
          "base_uri": "https://localhost:8080/"
        },
        "id": "df1e02e6",
        "outputId": "c9f88424-767d-4c43-ae5e-e794f88e0588"
      },
      "outputs": [
        {
          "output_type": "stream",
          "name": "stdout",
          "text": [
            "           a         b         c         d         e         f    g\n",
            "0   1.967025  1.312769  1.189172  1.201706  1.480853  7.151524  LT8\n",
            "1   1.354348  1.928288  1.140816  1.867321  1.039517  7.330290  LT8\n",
            "2   1.556850  1.906681  1.310637  1.143286  1.105314  7.022769  LT8\n",
            "3   1.551396  1.028131  1.061084  1.157336  1.258039  6.055987  LT8\n",
            "4   1.770392  1.857242  1.363614  1.407561  1.825225  8.224034  GT8\n",
            "5   1.351827  1.490565  1.809443  1.354329  1.830769  7.836932  LT8\n",
            "6   1.517520  1.538430  1.134551  1.073467  1.942133  7.206101  LT8\n",
            "7   1.374775  1.601236  1.721529  1.310318  1.362586  7.370444  LT8\n",
            "8   1.151767  1.631563  1.187630  1.887164  1.958901  7.817025  LT8\n",
            "9   1.853252  1.161084  1.959313  1.562866  1.477863  8.014378  GT8\n",
            "10  1.199618  1.011089  1.897310  1.974625  1.594469  7.677111  LT8\n",
            "11  1.339329  1.055056  1.193191  1.276127  1.704940  6.568644  LT8\n",
            "12  1.091122  1.358685  1.629762  1.236827  1.787880  7.104276  LT8\n",
            "13  1.433148  1.932312  1.164448  1.033995  1.800432  7.364335  LT8\n",
            "14  1.809606  1.657827  1.997041  1.971370  1.688710  9.124553  GT8\n",
            "15  1.483402  1.853283  1.006576  1.921009  1.511662  7.775933  LT8\n",
            "16  1.726342  1.399384  1.475379  1.568480  1.110733  7.280319  LT8\n",
            "17  1.268020  1.333639  1.417355  1.526362  1.415018  6.960394  LT8\n",
            "18  1.130387  1.701740  1.549363  1.838118  1.694886  7.914495  LT8\n",
            "19  1.314250  1.782041  1.968653  1.471389  1.496363  8.032697  GT8\n",
            "No of rows in which the value in column g is LT8 are:  16\n",
            "Standard Deviation of column f where value in column g is LT8 is:  0.4931465691864944\n",
            "Standard Deviation of column f where value in column g is GT8 is:  0.525711932995983\n"
          ]
        }
      ],
      "source": [
        "df[\"f\"]=df.sum(axis=1)\n",
        "df.loc[df[\"f\"] < 8,\"g\"]=\"LT8\"\n",
        "df.loc[df[\"f\"]>=8,\"g\"]=\"GT8\"\n",
        "print(df)\n",
        "df1=df.loc[df[\"g\"]==\"LT8\"][\"f\"]\n",
        "df2=df.loc[df[\"g\"]==\"GT8\"][\"f\"]\n",
        "print(\"No of rows in which the value in column g is LT8 are: \",df1.shape[0])\n",
        "print(\"Standard Deviation of column f where value in column g is LT8 is: \",df1.std())\n",
        "print(\"Standard Deviation of column f where value in column g is GT8 is: \",df2.std())"
      ]
    },
    {
      "cell_type": "markdown",
      "id": "fc143eae",
      "metadata": {
        "id": "fc143eae"
      },
      "source": [
        "## Question 12"
      ]
    },
    {
      "cell_type": "markdown",
      "id": "851441d1",
      "metadata": {
        "id": "851441d1"
      },
      "source": [
        "Broadcasting in numpy is way how arrays are treated while performing arithmeticoperations when their dimensions are not same"
      ]
    },
    {
      "cell_type": "markdown",
      "id": "a79dad58",
      "metadata": {
        "id": "a79dad58"
      },
      "source": [
        "For example we have array of of dimensions (3,1) and we try to add scalar to it.\n",
        "In this case we can imagine as if scalar is streched into array of same dimensions of given array."
      ]
    },
    {
      "cell_type": "code",
      "execution_count": 33,
      "id": "e814b9df",
      "metadata": {
        "colab": {
          "base_uri": "https://localhost:8080/"
        },
        "id": "e814b9df",
        "outputId": "3c461dae-44fb-41c3-e7e9-97a2b0c98671"
      },
      "outputs": [
        {
          "output_type": "stream",
          "name": "stdout",
          "text": [
            "[4 5 6]\n",
            "[[4 5 6]\n",
            " [7 8 9]]\n"
          ]
        }
      ],
      "source": [
        "arr=np.array([1,2,3])\n",
        "scalar=3\n",
        "print(arr+scalar)\n",
        "arr=np.array([[1,2,3],[4,5,6]])\n",
        "print(arr+scalar)"
      ]
    },
    {
      "cell_type": "markdown",
      "id": "1b879270",
      "metadata": {
        "id": "1b879270"
      },
      "source": [
        "Broadcasting also forms when we trying to do some arithmetic operation between different sizes of array, here we are trying to multiply as (2,3) array with (1,3) array. In this case (1,3) will act as if it was streched to (2,3) array. It will be append a row which is copy of itself."
      ]
    },
    {
      "cell_type": "code",
      "execution_count": 36,
      "id": "08258f84",
      "metadata": {
        "colab": {
          "base_uri": "https://localhost:8080/"
        },
        "id": "08258f84",
        "outputId": "83091fcf-25fc-4e22-b9d0-16d5b92a6277"
      },
      "outputs": [
        {
          "output_type": "stream",
          "name": "stdout",
          "text": [
            "[[ 1  4 12]\n",
            " [ 4 10 24]]\n"
          ]
        }
      ],
      "source": [
        "arr1=np.array([1,2,4])\n",
        "print(arr*arr1)"
      ]
    },
    {
      "cell_type": "markdown",
      "id": "d6ee4604",
      "metadata": {
        "id": "d6ee4604"
      },
      "source": [
        "But this will give error if try to multiply (2,3) array with (4,1) array. Because all pair of dimensions should be compitable.\n",
        "- Here one pair of dimension is (3,1) [columns] which is compatible as one of them is one.\n",
        "- But second pair of dimension is (2,4) [rows] which is not compatible as there are not same niether one of them is one\n",
        "Hence the below code will throw error"
      ]
    },
    {
      "cell_type": "code",
      "execution_count": 37,
      "id": "e41bebcc",
      "metadata": {
        "colab": {
          "base_uri": "https://localhost:8080/",
          "height": 182
        },
        "id": "e41bebcc",
        "outputId": "afffb1c8-ead3-438b-9266-01fd16f5392c"
      },
      "outputs": [
        {
          "output_type": "error",
          "ename": "ValueError",
          "evalue": "ignored",
          "traceback": [
            "\u001b[0;31m---------------------------------------------------------------------------\u001b[0m",
            "\u001b[0;31mValueError\u001b[0m                                Traceback (most recent call last)",
            "\u001b[0;32m<ipython-input-37-30d0c4d371e6>\u001b[0m in \u001b[0;36m<module>\u001b[0;34m\u001b[0m\n\u001b[1;32m      1\u001b[0m \u001b[0marr2\u001b[0m\u001b[0;34m=\u001b[0m\u001b[0mnp\u001b[0m\u001b[0;34m.\u001b[0m\u001b[0marray\u001b[0m\u001b[0;34m(\u001b[0m\u001b[0;34m[\u001b[0m\u001b[0;36m1\u001b[0m\u001b[0;34m,\u001b[0m\u001b[0;36m2\u001b[0m\u001b[0;34m,\u001b[0m\u001b[0;36m3\u001b[0m\u001b[0;34m,\u001b[0m\u001b[0;36m4\u001b[0m\u001b[0;34m]\u001b[0m\u001b[0;34m)\u001b[0m\u001b[0;34m\u001b[0m\u001b[0;34m\u001b[0m\u001b[0m\n\u001b[0;32m----> 2\u001b[0;31m \u001b[0mprint\u001b[0m\u001b[0;34m(\u001b[0m\u001b[0marr\u001b[0m\u001b[0;34m*\u001b[0m\u001b[0marr2\u001b[0m\u001b[0;34m)\u001b[0m\u001b[0;34m\u001b[0m\u001b[0;34m\u001b[0m\u001b[0m\n\u001b[0m",
            "\u001b[0;31mValueError\u001b[0m: operands could not be broadcast together with shapes (2,3) (4,) "
          ]
        }
      ],
      "source": [
        "arr2=np.array([1,2,3,4])\n",
        "print(arr*arr2)"
      ]
    },
    {
      "cell_type": "markdown",
      "id": "2a5b4a94",
      "metadata": {
        "scrolled": true,
        "id": "2a5b4a94"
      },
      "source": [
        "## Question 13"
      ]
    },
    {
      "cell_type": "code",
      "execution_count": 34,
      "id": "e9843768",
      "metadata": {
        "id": "e9843768"
      },
      "outputs": [],
      "source": [
        "def argmin(A,axis=0):\n",
        "    A=np.ravel(A)\n",
        "    ind=0\n",
        "    mx=100000000\n",
        "    for i in range(len(A)):\n",
        "        if(mx>A[i]):\n",
        "            ind=i\n",
        "            mx=A[i]\n",
        "    return ind\n",
        "    "
      ]
    },
    {
      "cell_type": "markdown",
      "id": "ff3c610c",
      "metadata": {
        "id": "ff3c610c"
      },
      "source": [
        "To confirm that custom function made gives the same answer as np.argmin we would compare both results by generating a different random array for some number of iterations and verify if they both give same answer."
      ]
    },
    {
      "cell_type": "code",
      "execution_count": 35,
      "id": "16035a35",
      "metadata": {
        "colab": {
          "base_uri": "https://localhost:8080/",
          "height": 363
        },
        "id": "16035a35",
        "outputId": "4e86f135-29c9-4ac4-af1a-1771812d1679"
      },
      "outputs": [
        {
          "output_type": "execute_result",
          "data": {
            "text/plain": [
              "   Custum Function  np.argmin\n",
              "0              258        258\n",
              "1               91         91\n",
              "2              702        702\n",
              "3              103        103\n",
              "4               98         98\n",
              "5               18         18\n",
              "6               67         67\n",
              "7              122        122\n",
              "8               44         44\n",
              "9               18         18"
            ],
            "text/html": [
              "\n",
              "  <div id=\"df-69d29f7f-ce2c-4b85-b420-421f25473767\">\n",
              "    <div class=\"colab-df-container\">\n",
              "      <div>\n",
              "<style scoped>\n",
              "    .dataframe tbody tr th:only-of-type {\n",
              "        vertical-align: middle;\n",
              "    }\n",
              "\n",
              "    .dataframe tbody tr th {\n",
              "        vertical-align: top;\n",
              "    }\n",
              "\n",
              "    .dataframe thead th {\n",
              "        text-align: right;\n",
              "    }\n",
              "</style>\n",
              "<table border=\"1\" class=\"dataframe\">\n",
              "  <thead>\n",
              "    <tr style=\"text-align: right;\">\n",
              "      <th></th>\n",
              "      <th>Custum Function</th>\n",
              "      <th>np.argmin</th>\n",
              "    </tr>\n",
              "  </thead>\n",
              "  <tbody>\n",
              "    <tr>\n",
              "      <th>0</th>\n",
              "      <td>258</td>\n",
              "      <td>258</td>\n",
              "    </tr>\n",
              "    <tr>\n",
              "      <th>1</th>\n",
              "      <td>91</td>\n",
              "      <td>91</td>\n",
              "    </tr>\n",
              "    <tr>\n",
              "      <th>2</th>\n",
              "      <td>702</td>\n",
              "      <td>702</td>\n",
              "    </tr>\n",
              "    <tr>\n",
              "      <th>3</th>\n",
              "      <td>103</td>\n",
              "      <td>103</td>\n",
              "    </tr>\n",
              "    <tr>\n",
              "      <th>4</th>\n",
              "      <td>98</td>\n",
              "      <td>98</td>\n",
              "    </tr>\n",
              "    <tr>\n",
              "      <th>5</th>\n",
              "      <td>18</td>\n",
              "      <td>18</td>\n",
              "    </tr>\n",
              "    <tr>\n",
              "      <th>6</th>\n",
              "      <td>67</td>\n",
              "      <td>67</td>\n",
              "    </tr>\n",
              "    <tr>\n",
              "      <th>7</th>\n",
              "      <td>122</td>\n",
              "      <td>122</td>\n",
              "    </tr>\n",
              "    <tr>\n",
              "      <th>8</th>\n",
              "      <td>44</td>\n",
              "      <td>44</td>\n",
              "    </tr>\n",
              "    <tr>\n",
              "      <th>9</th>\n",
              "      <td>18</td>\n",
              "      <td>18</td>\n",
              "    </tr>\n",
              "  </tbody>\n",
              "</table>\n",
              "</div>\n",
              "      <button class=\"colab-df-convert\" onclick=\"convertToInteractive('df-69d29f7f-ce2c-4b85-b420-421f25473767')\"\n",
              "              title=\"Convert this dataframe to an interactive table.\"\n",
              "              style=\"display:none;\">\n",
              "        \n",
              "  <svg xmlns=\"http://www.w3.org/2000/svg\" height=\"24px\"viewBox=\"0 0 24 24\"\n",
              "       width=\"24px\">\n",
              "    <path d=\"M0 0h24v24H0V0z\" fill=\"none\"/>\n",
              "    <path d=\"M18.56 5.44l.94 2.06.94-2.06 2.06-.94-2.06-.94-.94-2.06-.94 2.06-2.06.94zm-11 1L8.5 8.5l.94-2.06 2.06-.94-2.06-.94L8.5 2.5l-.94 2.06-2.06.94zm10 10l.94 2.06.94-2.06 2.06-.94-2.06-.94-.94-2.06-.94 2.06-2.06.94z\"/><path d=\"M17.41 7.96l-1.37-1.37c-.4-.4-.92-.59-1.43-.59-.52 0-1.04.2-1.43.59L10.3 9.45l-7.72 7.72c-.78.78-.78 2.05 0 2.83L4 21.41c.39.39.9.59 1.41.59.51 0 1.02-.2 1.41-.59l7.78-7.78 2.81-2.81c.8-.78.8-2.07 0-2.86zM5.41 20L4 18.59l7.72-7.72 1.47 1.35L5.41 20z\"/>\n",
              "  </svg>\n",
              "      </button>\n",
              "      \n",
              "  <style>\n",
              "    .colab-df-container {\n",
              "      display:flex;\n",
              "      flex-wrap:wrap;\n",
              "      gap: 12px;\n",
              "    }\n",
              "\n",
              "    .colab-df-convert {\n",
              "      background-color: #E8F0FE;\n",
              "      border: none;\n",
              "      border-radius: 50%;\n",
              "      cursor: pointer;\n",
              "      display: none;\n",
              "      fill: #1967D2;\n",
              "      height: 32px;\n",
              "      padding: 0 0 0 0;\n",
              "      width: 32px;\n",
              "    }\n",
              "\n",
              "    .colab-df-convert:hover {\n",
              "      background-color: #E2EBFA;\n",
              "      box-shadow: 0px 1px 2px rgba(60, 64, 67, 0.3), 0px 1px 3px 1px rgba(60, 64, 67, 0.15);\n",
              "      fill: #174EA6;\n",
              "    }\n",
              "\n",
              "    [theme=dark] .colab-df-convert {\n",
              "      background-color: #3B4455;\n",
              "      fill: #D2E3FC;\n",
              "    }\n",
              "\n",
              "    [theme=dark] .colab-df-convert:hover {\n",
              "      background-color: #434B5C;\n",
              "      box-shadow: 0px 1px 3px 1px rgba(0, 0, 0, 0.15);\n",
              "      filter: drop-shadow(0px 1px 2px rgba(0, 0, 0, 0.3));\n",
              "      fill: #FFFFFF;\n",
              "    }\n",
              "  </style>\n",
              "\n",
              "      <script>\n",
              "        const buttonEl =\n",
              "          document.querySelector('#df-69d29f7f-ce2c-4b85-b420-421f25473767 button.colab-df-convert');\n",
              "        buttonEl.style.display =\n",
              "          google.colab.kernel.accessAllowed ? 'block' : 'none';\n",
              "\n",
              "        async function convertToInteractive(key) {\n",
              "          const element = document.querySelector('#df-69d29f7f-ce2c-4b85-b420-421f25473767');\n",
              "          const dataTable =\n",
              "            await google.colab.kernel.invokeFunction('convertToInteractive',\n",
              "                                                     [key], {});\n",
              "          if (!dataTable) return;\n",
              "\n",
              "          const docLinkHtml = 'Like what you see? Visit the ' +\n",
              "            '<a target=\"_blank\" href=https://colab.research.google.com/notebooks/data_table.ipynb>data table notebook</a>'\n",
              "            + ' to learn more about interactive tables.';\n",
              "          element.innerHTML = '';\n",
              "          dataTable['output_type'] = 'display_data';\n",
              "          await google.colab.output.renderOutput(dataTable, element);\n",
              "          const docLink = document.createElement('div');\n",
              "          docLink.innerHTML = docLinkHtml;\n",
              "          element.appendChild(docLink);\n",
              "        }\n",
              "      </script>\n",
              "    </div>\n",
              "  </div>\n",
              "  "
            ]
          },
          "metadata": {},
          "execution_count": 35
        }
      ],
      "source": [
        "argMinDF=pd.DataFrame(columns=[\"Custum Function\",\"np.argmin\"])\n",
        "lst1=[]\n",
        "lst2=[]\n",
        "for i in range(10):\n",
        "    A=np.random.randint(1,100,(10,10,10))\n",
        "    lst1.append(argmin(A))\n",
        "    lst2.append(np.argmin(A))\n",
        "argMinDF[\"Custum Function\"]=lst1\n",
        "argMinDF[\"np.argmin\"]=lst2\n",
        "argMinDF"
      ]
    },
    {
      "cell_type": "code",
      "execution_count": null,
      "id": "f120c0bf",
      "metadata": {
        "id": "f120c0bf"
      },
      "outputs": [],
      "source": []
    },
    {
      "cell_type": "code",
      "execution_count": null,
      "id": "eaa4f5ec",
      "metadata": {
        "id": "eaa4f5ec"
      },
      "outputs": [],
      "source": []
    }
  ],
  "metadata": {
    "kernelspec": {
      "display_name": "Python 3 (ipykernel)",
      "language": "python",
      "name": "python3"
    },
    "language_info": {
      "codemirror_mode": {
        "name": "ipython",
        "version": 3
      },
      "file_extension": ".py",
      "mimetype": "text/x-python",
      "name": "python",
      "nbconvert_exporter": "python",
      "pygments_lexer": "ipython3",
      "version": "3.11.1"
    },
    "colab": {
      "provenance": []
    }
  },
  "nbformat": 4,
  "nbformat_minor": 5
}